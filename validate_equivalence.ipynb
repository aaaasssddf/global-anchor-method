{
 "cells": [
  {
   "cell_type": "code",
   "execution_count": 1,
   "metadata": {},
   "outputs": [],
   "source": [
    "from __future__ import print_function\n",
    "\n",
    "import numpy as np\n",
    "import os\n",
    "import argparse\n",
    "from collections import OrderedDict\n",
    "import cPickle as pickle\n",
    "\n",
    "def loadYear(year):\n",
    "  filename = 'trained_vectors_400/vectors-{}-ngram.txt'.format(year)\n",
    "  # filename = 'trained_vectors/vectors-{}-ngram.txt'.format(year)\n",
    "  mapping = OrderedDict()\n",
    "  with open(filename, 'r') as f:\n",
    "    for line in f:\n",
    "      row = line.strip().split()\n",
    "      w = row[0]\n",
    "      v = [float(x) for x in row[1:]]\n",
    "      mapping[w] = v\n",
    "  return mapping\n"
   ]
  },
  {
   "cell_type": "markdown",
   "metadata": {},
   "source": [
    "Load the pre-trained vectors"
   ]
  },
  {
   "cell_type": "code",
   "execution_count": 2,
   "metadata": {},
   "outputs": [
    {
     "name": "stdout",
     "output_type": "stream",
     "text": [
      "year 1908: 31808 tokens\n",
      "year 1917: 26737 tokens\n",
      "year 1926: 24187 tokens\n",
      "year 1935: 21510 tokens\n",
      "year 1944: 17432 tokens\n",
      "year 1953: 25589 tokens\n",
      "year 1962: 29019 tokens\n",
      "year 1971: 25715 tokens\n",
      "year 1980: 31480 tokens\n",
      "year 1989: 37904 tokens\n",
      "year 1998: 46254 tokens\n"
     ]
    }
   ],
   "source": [
    "years = [1900 + x for x in range(101)]\n",
    "\n",
    "models = OrderedDict()\n",
    "for year in years:\n",
    "    try:\n",
    "      models[year] = loadYear(year)\n",
    "      print(\"year {}: {} tokens\".format(year, len(models[year])))\n",
    "    except:\n",
    "      pass\n",
    "years = models.keys()\n"
   ]
  },
  {
   "cell_type": "markdown",
   "metadata": {},
   "source": [
    "Extract a commom set of tokens. We will compare the shift of language using the set of common\n",
    "tokens. Pairwise inner product (PIP) matrices will be constructed that captures the meanings\n",
    "of the tokens."
   ]
  },
  {
   "cell_type": "code",
   "execution_count": 3,
   "metadata": {},
   "outputs": [
    {
     "name": "stdout",
     "output_type": "stream",
     "text": [
      "15803\n"
     ]
    }
   ],
   "source": [
    "tokens = models[years[0]].keys()\n",
    "# extract common vocab from two embeddings\n",
    "for year in years:\n",
    "    tokens_tmp = models[year].keys()\n",
    "    tokens = list(set(tokens).intersection(tokens_tmp))\n",
    "subsample = len(tokens)\n",
    "if subsample:\n",
    "  tokens = np.random.choice(tokens, size = subsample, replace=False)\n",
    "print(len(tokens))\n"
   ]
  },
  {
   "cell_type": "code",
   "execution_count": 4,
   "metadata": {},
   "outputs": [
    {
     "name": "stdout",
     "output_type": "stream",
     "text": [
      "15803 tokens to be compared\n"
     ]
    }
   ],
   "source": [
    "paired_embeds = {}\n",
    "for token in tokens:\n",
    "    paired_embeds[token] = []\n",
    "    for year in years:\n",
    "        paired_embeds[token].append(models[year][token])\n",
    "\n",
    "# del models\n",
    "print(\"{} tokens to be compared\".format(len(paired_embeds)))"
   ]
  },
  {
   "cell_type": "code",
   "execution_count": 5,
   "metadata": {},
   "outputs": [],
   "source": [
    "normalize = True\n",
    "Es = OrderedDict()\n",
    "for idx, year in enumerate(years):\n",
    "    Es[year] = []\n",
    "    for token in tokens:\n",
    "        Es[year].append(paired_embeds[token][idx])\n",
    "    Es[year] = np.array(Es[year])\n",
    "    if normalize:\n",
    "        Es[year] = Es[year] / np.linalg.norm(Es[year], axis=1)[:,None]\n",
    "    column_energy = np.mean(np.linalg.norm(Es[year], axis=0))\n",
    "    Es[year] = Es[year] / column_energy\n",
    "del paired_embeds"
   ]
  },
  {
   "cell_type": "markdown",
   "metadata": {},
   "source": [
    "Now, consider the PIP loss between embeddings between different years. Depending on the size, \n",
    "we use two solutions. It depends on if the PIP matrices are small enough to fit in memory."
   ]
  },
  {
   "cell_type": "code",
   "execution_count": 6,
   "metadata": {},
   "outputs": [
    {
     "name": "stdout",
     "output_type": "stream",
     "text": [
      "comparing 1908 and 1917: align / anc=0.848509814188\n",
      "comparing 1908 and 1926: align / anc=0.846371193357\n",
      "comparing 1908 and 1935: align / anc=0.815797362807\n",
      "comparing 1908 and 1944: align / anc=0.777492372841\n",
      "comparing 1908 and 1953: align / anc=0.835726171278\n",
      "comparing 1908 and 1962: align / anc=0.834771752272\n",
      "comparing 1908 and 1971: align / anc=0.806339554095\n",
      "comparing 1908 and 1980: align / anc=0.802042076302\n",
      "comparing 1908 and 1989: align / anc=0.808598296846\n",
      "comparing 1908 and 1998: align / anc=0.797327026407\n",
      "comparing 1917 and 1908: align / anc=0.848509814188\n",
      "comparing 1917 and 1926: align / anc=0.849236465242\n",
      "comparing 1917 and 1935: align / anc=0.8302638596\n",
      "comparing 1917 and 1944: align / anc=0.798769545933\n",
      "comparing 1917 and 1953: align / anc=0.845858640154\n",
      "comparing 1917 and 1962: align / anc=0.841883964631\n",
      "comparing 1917 and 1971: align / anc=0.821805230354\n",
      "comparing 1917 and 1980: align / anc=0.81624926484\n",
      "comparing 1917 and 1989: align / anc=0.818612220946\n",
      "comparing 1917 and 1998: align / anc=0.807059219057\n",
      "comparing 1926 and 1908: align / anc=0.846371193357\n",
      "comparing 1926 and 1917: align / anc=0.849236465242\n",
      "comparing 1926 and 1935: align / anc=0.83590816015\n",
      "comparing 1926 and 1944: align / anc=0.806159839121\n",
      "comparing 1926 and 1953: align / anc=0.84122126395\n",
      "comparing 1926 and 1962: align / anc=0.833044870502\n",
      "comparing 1926 and 1971: align / anc=0.817995702713\n",
      "comparing 1926 and 1980: align / anc=0.806475295284\n",
      "comparing 1926 and 1989: align / anc=0.807424910098\n",
      "comparing 1926 and 1998: align / anc=0.792922922812\n",
      "comparing 1935 and 1908: align / anc=0.815797362807\n",
      "comparing 1935 and 1917: align / anc=0.8302638596\n",
      "comparing 1935 and 1926: align / anc=0.83590816015\n",
      "comparing 1935 and 1944: align / anc=0.821956836195\n",
      "comparing 1935 and 1953: align / anc=0.831569771516\n",
      "comparing 1935 and 1962: align / anc=0.819060863201\n",
      "comparing 1935 and 1971: align / anc=0.818756899201\n",
      "comparing 1935 and 1980: align / anc=0.805094221177\n",
      "comparing 1935 and 1989: align / anc=0.800300179274\n",
      "comparing 1935 and 1998: align / anc=0.781938210784\n",
      "comparing 1944 and 1908: align / anc=0.777492372841\n",
      "comparing 1944 and 1917: align / anc=0.798769545933\n",
      "comparing 1944 and 1926: align / anc=0.806159839121\n",
      "comparing 1944 and 1935: align / anc=0.821956836195\n",
      "comparing 1944 and 1953: align / anc=0.801114833057\n",
      "comparing 1944 and 1962: align / anc=0.787404335936\n",
      "comparing 1944 and 1971: align / anc=0.800432361049\n",
      "comparing 1944 and 1980: align / anc=0.784515608723\n",
      "comparing 1944 and 1989: align / anc=0.774793324726\n",
      "comparing 1944 and 1998: align / anc=0.753596795002\n",
      "comparing 1953 and 1908: align / anc=0.835726171278\n",
      "comparing 1953 and 1917: align / anc=0.845858640154\n",
      "comparing 1953 and 1926: align / anc=0.84122126395\n",
      "comparing 1953 and 1935: align / anc=0.831569771516\n",
      "comparing 1953 and 1944: align / anc=0.801114833057\n",
      "comparing 1953 and 1962: align / anc=0.840097699136\n",
      "comparing 1953 and 1971: align / anc=0.825983388915\n",
      "comparing 1953 and 1980: align / anc=0.82009556374\n",
      "comparing 1953 and 1989: align / anc=0.820456640935\n",
      "comparing 1953 and 1998: align / anc=0.805253192528\n",
      "comparing 1962 and 1908: align / anc=0.834771752272\n",
      "comparing 1962 and 1917: align / anc=0.841883964631\n",
      "comparing 1962 and 1926: align / anc=0.833044870502\n",
      "comparing 1962 and 1935: align / anc=0.819060863201\n",
      "comparing 1962 and 1944: align / anc=0.787404335936\n",
      "comparing 1962 and 1953: align / anc=0.840097699136\n",
      "comparing 1962 and 1971: align / anc=0.824531263022\n",
      "comparing 1962 and 1980: align / anc=0.82131939254\n",
      "comparing 1962 and 1989: align / anc=0.821486955333\n",
      "comparing 1962 and 1998: align / anc=0.80959366799\n",
      "comparing 1971 and 1908: align / anc=0.806339554095\n",
      "comparing 1971 and 1917: align / anc=0.821805230354\n",
      "comparing 1971 and 1926: align / anc=0.817995702713\n",
      "comparing 1971 and 1935: align / anc=0.818756899201\n",
      "comparing 1971 and 1944: align / anc=0.800432361049\n",
      "comparing 1971 and 1953: align / anc=0.825983388915\n",
      "comparing 1971 and 1962: align / anc=0.824531263022\n",
      "comparing 1971 and 1980: align / anc=0.822771153085\n",
      "comparing 1971 and 1989: align / anc=0.81682868502\n",
      "comparing 1971 and 1998: align / anc=0.799984941271\n",
      "comparing 1980 and 1908: align / anc=0.802042076302\n",
      "comparing 1980 and 1917: align / anc=0.81624926484\n",
      "comparing 1980 and 1926: align / anc=0.806475295284\n",
      "comparing 1980 and 1935: align / anc=0.805094221177\n",
      "comparing 1980 and 1944: align / anc=0.784515608723\n",
      "comparing 1980 and 1953: align / anc=0.82009556374\n",
      "comparing 1980 and 1962: align / anc=0.82131939254\n",
      "comparing 1980 and 1971: align / anc=0.822771153085\n",
      "comparing 1980 and 1989: align / anc=0.82366764133\n",
      "comparing 1980 and 1998: align / anc=0.811975547179\n",
      "comparing 1989 and 1908: align / anc=0.808598296846\n",
      "comparing 1989 and 1917: align / anc=0.818612220946\n",
      "comparing 1989 and 1926: align / anc=0.807424910098\n",
      "comparing 1989 and 1935: align / anc=0.800300179274\n",
      "comparing 1989 and 1944: align / anc=0.774793324726\n",
      "comparing 1989 and 1953: align / anc=0.820456640935\n",
      "comparing 1989 and 1962: align / anc=0.821486955333\n",
      "comparing 1989 and 1971: align / anc=0.81682868502\n",
      "comparing 1989 and 1980: align / anc=0.82366764133\n",
      "comparing 1989 and 1998: align / anc=0.816630257942\n",
      "comparing 1998 and 1908: align / anc=0.797327026407\n",
      "comparing 1998 and 1917: align / anc=0.807059219057\n",
      "comparing 1998 and 1926: align / anc=0.792922922812\n",
      "comparing 1998 and 1935: align / anc=0.781938210784\n",
      "comparing 1998 and 1944: align / anc=0.753596795002\n",
      "comparing 1998 and 1953: align / anc=0.805253192528\n",
      "comparing 1998 and 1962: align / anc=0.80959366799\n",
      "comparing 1998 and 1971: align / anc=0.799984941271\n",
      "comparing 1998 and 1980: align / anc=0.811975547179\n",
      "comparing 1998 and 1989: align / anc=0.816630257942\n"
     ]
    }
   ],
   "source": [
    "alignment, anchor = [], []\n",
    "for idx1, year1 in enumerate(years):\n",
    "    new_alignment, new_anchor = [], []\n",
    "    for idx2, year2 in enumerate(years):\n",
    "        if idx1 == idx2:\n",
    "            continue\n",
    "        M = Es[year1].T.dot(Es[year2])\n",
    "        U, D, V = np.linalg.svd(M)\n",
    "        Q = V.T.dot(U.T)\n",
    "        align = np.linalg.norm(Es[year1] - Es[year2].dot(Q), 'fro')\n",
    "        anc = np.linalg.norm(Es[year1].dot(Es[year1].T) - Es[year2].dot(Es[year2].T), 'fro')\n",
    "        new_alignment.append(align)\n",
    "        new_anchor.append(anc)\n",
    "        print(\"comparing {} and {}: align / anc={}\".format(\n",
    "            year1, year2, align / anc))\n",
    "    alignment.append(new_alignment)\n",
    "    anchor.append(new_anchor)\n",
    "    \n"
   ]
  },
  {
   "cell_type": "markdown",
   "metadata": {},
   "source": [
    "Now we visualize the result. "
   ]
  },
  {
   "cell_type": "code",
   "execution_count": 7,
   "metadata": {},
   "outputs": [
    {
     "name": "stdout",
     "output_type": "stream",
     "text": [
      "(11, 10)\n",
      "(11, 10)\n",
      "(11, 10)\n"
     ]
    }
   ],
   "source": [
    "alignment = np.array(alignment)\n",
    "anchor = np.array(anchor)\n",
    "print(alignment.shape)\n",
    "print(anchor.shape)\n",
    "ratio = alignment / anchor\n",
    "#ratio = ratio[~np.eye(ratio.shape[0],dtype=bool)]\n",
    "print(ratio.shape)\n"
   ]
  },
  {
   "cell_type": "code",
   "execution_count": 8,
   "metadata": {},
   "outputs": [
    {
     "name": "stdout",
     "output_type": "stream",
     "text": [
      "max=0.849236465242, min=0.753596795002, mean=0.814637767738, std=0.019665169675\n"
     ]
    }
   ],
   "source": [
    "import matplotlib\n",
    "import matplotlib.pyplot as plt\n",
    "import seaborn as sns; sns.set()\n",
    "import pandas as pd\n",
    "\n",
    "\n",
    "np.save('alignment.npy', alignment)\n",
    "np.save('anchor.npy', anchor)\n",
    "print(\"max={}, min={}, mean={}, std={}\".format(\n",
    "    np.max(ratio), np.min(ratio), np.mean(ratio), np.std(ratio)))\n",
    "plt.figure()\n",
    "plt.figure(figsize=(18, 9))  # in inches\n",
    "plt.hist(ratio, bins=100)\n",
    "plt.savefig(\"ratio_hist.pdf\")\n"
   ]
  },
  {
   "cell_type": "code",
   "execution_count": null,
   "metadata": {},
   "outputs": [],
   "source": []
  }
 ],
 "metadata": {
  "kernelspec": {
   "display_name": "Python 2",
   "language": "python",
   "name": "python2"
  },
  "language_info": {
   "codemirror_mode": {
    "name": "ipython",
    "version": 2
   },
   "file_extension": ".py",
   "mimetype": "text/x-python",
   "name": "python",
   "nbconvert_exporter": "python",
   "pygments_lexer": "ipython2",
   "version": "2.7.12"
  }
 },
 "nbformat": 4,
 "nbformat_minor": 1
}
